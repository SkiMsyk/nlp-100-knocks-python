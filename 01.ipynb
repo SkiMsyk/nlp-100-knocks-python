{
 "cells": [
  {
   "cell_type": "markdown",
   "id": "ad41d24c-28e6-419a-a83d-93edcc4e6d82",
   "metadata": {},
   "source": [
    "# 00. 文字列の逆順\n",
    "文字列”stressed”の文字を逆に（末尾から先頭に向かって）並べた文字列を得よ．"
   ]
  },
  {
   "cell_type": "code",
   "execution_count": 3,
   "id": "625f494f-2447-4adc-90e6-6e2e69c592ae",
   "metadata": {},
   "outputs": [
    {
     "data": {
      "text/plain": [
       "'desserts'"
      ]
     },
     "execution_count": 3,
     "metadata": {},
     "output_type": "execute_result"
    }
   ],
   "source": [
    "t = \"stressed\"\n",
    "t[-1::-1]"
   ]
  },
  {
   "cell_type": "markdown",
   "id": "7c514d42-c9f9-41cc-8392-ab2a58a9bfc1",
   "metadata": {},
   "source": [
    "# 01. 「パタトクカシーー」\n",
    "「パタトクカシーー」という文字列の1,3,5,7文字目を取り出して連結した文字列を得よ．"
   ]
  },
  {
   "cell_type": "code",
   "execution_count": 4,
   "id": "69ff5c30-8bb8-4b8f-b5e3-77f1a388e302",
   "metadata": {},
   "outputs": [
    {
     "data": {
      "text/plain": [
       "'タクシー'"
      ]
     },
     "execution_count": 4,
     "metadata": {},
     "output_type": "execute_result"
    }
   ],
   "source": [
    "t = \"パタトクカシーー\"\n",
    "''.join([e for i, e in enumerate(t) if i % 2 != 0])"
   ]
  },
  {
   "cell_type": "markdown",
   "id": "09883202-7435-4bd6-95ec-3f797844d421",
   "metadata": {},
   "source": [
    "# 02. 「パトカー」＋「タクシー」＝「パタトクカシーー」\n",
    "「パトカー」＋「タクシー」の文字を先頭から交互に連結して文字列「パタトクカシーー」を得よ．"
   ]
  },
  {
   "cell_type": "code",
   "execution_count": 25,
   "id": "94a1dd18-d5dc-4d12-af19-a02bf8bb3a25",
   "metadata": {},
   "outputs": [],
   "source": [
    "def alternate_join(t1,t2,drop=True):\n",
    "    minlen = min(len(t1), len(t2))\n",
    "    res = ''.join([e1 + e2 for e1, e2 in zip(t1[:minlen], t2[:minlen])])\n",
    "    \n",
    "    if drop:\n",
    "        return res\n",
    "    else:\n",
    "        resid = t1[minlen:] + t2[minlen:]\n",
    "        return res + resid"
   ]
  },
  {
   "cell_type": "code",
   "execution_count": 29,
   "id": "df9661ca-2021-44b6-aaf1-3808d23c4ed3",
   "metadata": {},
   "outputs": [
    {
     "data": {
      "text/plain": [
       "'パタトクカシーー'"
      ]
     },
     "execution_count": 29,
     "metadata": {},
     "output_type": "execute_result"
    }
   ],
   "source": [
    "t1 = \"パトカー\"\n",
    "t2 = \"タクシー\"\n",
    "\n",
    "alternate_join(t1,t2,drop=True)"
   ]
  },
  {
   "cell_type": "markdown",
   "id": "ba03d4b7-2dd5-41fa-9d3e-95ee95a362c5",
   "metadata": {},
   "source": [
    "# 03. 円周率\n",
    "“Now I need a drink, alcoholic of course, after the heavy lectures involving quantum mechanics.”という文を単語に分解し，各単語の（アルファベットの）文字数を先頭から出現順に並べたリストを作成せよ．"
   ]
  },
  {
   "cell_type": "code",
   "execution_count": 125,
   "id": "cbaf7264-d41a-41eb-9f1d-80ac2a132e8a",
   "metadata": {},
   "outputs": [],
   "source": [
    "import re\n",
    "def get_words(t):\n",
    "    return [e for e in re.split(r\"[,.:;\\s+]\", t) if e != \"\"]"
   ]
  },
  {
   "cell_type": "code",
   "execution_count": 44,
   "id": "f3c923fb-cb24-4136-b531-0eb0e720251d",
   "metadata": {},
   "outputs": [
    {
     "data": {
      "text/plain": [
       "[3, 1, 4, 1, 5, 9, 2, 6, 5, 3, 5, 8, 9, 7, 9]"
      ]
     },
     "execution_count": 44,
     "metadata": {},
     "output_type": "execute_result"
    }
   ],
   "source": [
    "import re\n",
    "t = \"Now I need a drink, alcoholic of course, after the heavy lectures involving quantum mechanics.\"\n",
    "[len(e) for e in get_words(t) if e != \"\"]"
   ]
  },
  {
   "cell_type": "markdown",
   "id": "f34c78b0-b562-4f20-8460-571a0182d19c",
   "metadata": {},
   "source": [
    "# 04. 元素記号\n",
    "“Hi He Lied Because Boron Could Not Oxidize Fluorine. New Nations Might Also Sign Peace Security Clause. Arthur King Can.”という文を単語に分解し，1, 5, 6, 7, 8, 9, 15, 16, 19番目の単語は先頭の1文字，それ以外の単語は先頭の2文字を取り出し，取り出した文字列から単語の位置（先頭から何番目の単語か）への連想配列（辞書型もしくはマップ型）を作成せよ．"
   ]
  },
  {
   "cell_type": "code",
   "execution_count": 47,
   "id": "14fe2408-34f8-4702-8f42-ba07d4d6655b",
   "metadata": {},
   "outputs": [
    {
     "data": {
      "text/plain": [
       "['H',\n",
       " 'He',\n",
       " 'Li',\n",
       " 'Be',\n",
       " 'B',\n",
       " 'C',\n",
       " 'N',\n",
       " 'O',\n",
       " 'F',\n",
       " 'Ne',\n",
       " 'Na',\n",
       " 'Mi',\n",
       " 'Al',\n",
       " 'Si',\n",
       " 'P',\n",
       " 'S',\n",
       " 'Cl',\n",
       " 'Ar',\n",
       " 'K',\n",
       " 'Ca']"
      ]
     },
     "execution_count": 47,
     "metadata": {},
     "output_type": "execute_result"
    }
   ],
   "source": [
    "t = \"Hi He Lied Because Boron Could Not Oxidize Fluorine. New Nations Might Also Sign Peace Security Clause. Arthur King Can.\"\n",
    "[e[0] if i in [0,4,5,6,7,8,14,15,18] else e[:2] for i, e in enumerate(get_words(t))]"
   ]
  },
  {
   "cell_type": "markdown",
   "id": "5feed2d6-1b21-447d-86d2-263d2b96f398",
   "metadata": {},
   "source": [
    "# 05. n-gram\n",
    "与えられたシーケンス（文字列やリストなど）からn-gramを作る関数を作成せよ．この関数を用い，”I am an NLPer”という文から単語bi-gram，文字bi-gramを得よ．"
   ]
  },
  {
   "cell_type": "code",
   "execution_count": 93,
   "id": "93d47edf-ee33-4475-a1ef-b287aad754f2",
   "metadata": {},
   "outputs": [],
   "source": [
    "def get_ngram(t,n,gram_type=\"word\"):\n",
    "    if n < 1:\n",
    "        return \"n should be greater than equal 1\"\n",
    "    if gram_type not in [\"word\", \"char\"]:\n",
    "        return \"type should be 'word' or 'char'\"\n",
    "    elif gram_type == \"word\":\n",
    "        words = get_words(t)\n",
    "        if n > len(words):\n",
    "            n = len(words)\n",
    "        res = [\"\"]*(len(words)-n+1)\n",
    "        for i in range(len(words)-n+1):\n",
    "            res[i] = words[i:i+n]\n",
    "        return res\n",
    "    elif gram_type == \"char\":\n",
    "        if n > len(t):\n",
    "            n = len(t)\n",
    "        res = [\"\"]*(len(t)-n+1)\n",
    "        for i in range(len(t)-n+1):\n",
    "            res[i] = t[i:i+n]\n",
    "        return res"
   ]
  },
  {
   "cell_type": "code",
   "execution_count": 94,
   "id": "1f170d35-499b-43d5-b34f-96a581a9abac",
   "metadata": {},
   "outputs": [
    {
     "data": {
      "text/plain": [
       "['I ', ' a', 'am', 'm ', ' a', 'an', 'n ', ' N', 'NL', 'LP', 'Pe', 'er']"
      ]
     },
     "execution_count": 94,
     "metadata": {},
     "output_type": "execute_result"
    }
   ],
   "source": [
    "get_ngram(\"I am an NLPer\", n=2, gram_type=\"char\")"
   ]
  },
  {
   "cell_type": "code",
   "execution_count": 97,
   "id": "3ef87c1a-a1f0-4354-b204-9bb9d5def276",
   "metadata": {},
   "outputs": [
    {
     "data": {
      "text/plain": [
       "['I a', ' am', 'am ', 'm a', ' an', 'an ', 'n N', ' NL', 'NLP', 'LPe', 'Per']"
      ]
     },
     "execution_count": 97,
     "metadata": {},
     "output_type": "execute_result"
    }
   ],
   "source": [
    "get_ngram(\"I am an NLPer\", n=3, gram_type=\"char\")"
   ]
  },
  {
   "cell_type": "code",
   "execution_count": 95,
   "id": "e281d7e4-9642-4e90-940d-d2a5d870911e",
   "metadata": {},
   "outputs": [
    {
     "data": {
      "text/plain": [
       "[['I', 'am'], ['am', 'an'], ['an', 'NLPer']]"
      ]
     },
     "execution_count": 95,
     "metadata": {},
     "output_type": "execute_result"
    }
   ],
   "source": [
    "get_ngram(\"I am an NLPer\", n=2, gram_type=\"word\")"
   ]
  },
  {
   "cell_type": "code",
   "execution_count": 96,
   "id": "96221f6e-de79-44f3-bef7-58d76648ccb8",
   "metadata": {},
   "outputs": [
    {
     "data": {
      "text/plain": [
       "[['I', 'am', 'an'], ['am', 'an', 'NLPer']]"
      ]
     },
     "execution_count": 96,
     "metadata": {},
     "output_type": "execute_result"
    }
   ],
   "source": [
    "get_ngram(\"I am an NLPer\", n=3, gram_type=\"word\")"
   ]
  },
  {
   "cell_type": "markdown",
   "id": "fd57d56a-39b6-497d-bffb-fc4d4509f9f6",
   "metadata": {},
   "source": [
    "# 06. 集合\n",
    "“paraparaparadise”と”paragraph”に含まれる文字bi-gramの集合を，それぞれ, XとYとして求め，XとYの和集合，積集合，差集合を求めよ．さらに，’se’というbi-gramがXおよびYに含まれるかどうかを調べよ．\n",
    "\n"
   ]
  },
  {
   "cell_type": "code",
   "execution_count": 98,
   "id": "c0cde87c-9b33-4607-a5ea-0a4b454a4553",
   "metadata": {},
   "outputs": [],
   "source": [
    "t1 = \"paraparaparadise\"\n",
    "t2 = \"paragraph\""
   ]
  },
  {
   "cell_type": "code",
   "execution_count": 104,
   "id": "283044b6-46ea-45c6-936d-9147f8ee0ea1",
   "metadata": {},
   "outputs": [],
   "source": [
    "t1gram = set(get_ngram(t1,n=2,gram_type=\"char\"))\n",
    "t2gram = set(get_ngram(t2,n=2,gram_type=\"char\"))"
   ]
  },
  {
   "cell_type": "code",
   "execution_count": 105,
   "id": "bbe858b3-aace-48d2-aecb-0618b21cdd77",
   "metadata": {},
   "outputs": [
    {
     "data": {
      "text/plain": [
       "{'ag', 'ap', 'ar', 'gr', 'pa', 'ph', 'ra'}"
      ]
     },
     "execution_count": 105,
     "metadata": {},
     "output_type": "execute_result"
    }
   ],
   "source": [
    "t1gram and t2gram"
   ]
  },
  {
   "cell_type": "code",
   "execution_count": 106,
   "id": "9c50cfc6-7562-41cd-a1e2-209c849d7ba5",
   "metadata": {},
   "outputs": [
    {
     "data": {
      "text/plain": [
       "{'ad', 'ap', 'ar', 'di', 'is', 'pa', 'ra', 'se'}"
      ]
     },
     "execution_count": 106,
     "metadata": {},
     "output_type": "execute_result"
    }
   ],
   "source": [
    "t1gram or t2gram "
   ]
  },
  {
   "cell_type": "code",
   "execution_count": 107,
   "id": "46b55090-6e08-4935-aebd-54b680df8911",
   "metadata": {},
   "outputs": [
    {
     "data": {
      "text/plain": [
       "{'ad', 'di', 'is', 'se'}"
      ]
     },
     "execution_count": 107,
     "metadata": {},
     "output_type": "execute_result"
    }
   ],
   "source": [
    "t1gram - t2gram"
   ]
  },
  {
   "cell_type": "code",
   "execution_count": 108,
   "id": "55d1db66-1549-4d71-8ae8-ffcdd5418adb",
   "metadata": {},
   "outputs": [
    {
     "data": {
      "text/plain": [
       "True"
      ]
     },
     "execution_count": 108,
     "metadata": {},
     "output_type": "execute_result"
    }
   ],
   "source": [
    "'se' in t1gram"
   ]
  },
  {
   "cell_type": "code",
   "execution_count": 109,
   "id": "2f655ff7-34b3-49b3-be8d-397eca655405",
   "metadata": {},
   "outputs": [
    {
     "data": {
      "text/plain": [
       "False"
      ]
     },
     "execution_count": 109,
     "metadata": {},
     "output_type": "execute_result"
    }
   ],
   "source": [
    "'se' in t2gram"
   ]
  },
  {
   "cell_type": "markdown",
   "id": "29fa6b2b-0f29-4f9f-beb5-e724dfbd85a0",
   "metadata": {},
   "source": [
    "# 07. テンプレートによる文生成\n",
    "引数x, y, zを受け取り「x時のyはz」という文字列を返す関数を実装せよ．さらに，x=12, y=”気温”, z=22.4として，実行結果を確認せよ．"
   ]
  },
  {
   "cell_type": "code",
   "execution_count": 110,
   "id": "8c9e784c-8c3b-4e33-b7ca-e945ad68db14",
   "metadata": {},
   "outputs": [],
   "source": [
    "def f(x,y,z):\n",
    "    return '{x}時の時は{y}は{z}'.format(x=x, y=y, z=z)"
   ]
  },
  {
   "cell_type": "code",
   "execution_count": 111,
   "id": "e1384c41-de91-470e-819e-5d18e71820cc",
   "metadata": {},
   "outputs": [
    {
     "data": {
      "text/plain": [
       "'12時の時は気温は22.4'"
      ]
     },
     "execution_count": 111,
     "metadata": {},
     "output_type": "execute_result"
    }
   ],
   "source": [
    "f('12','気温', '22.4')"
   ]
  },
  {
   "cell_type": "markdown",
   "id": "283d71e5-c3f7-4457-b72b-054655c00fb3",
   "metadata": {},
   "source": [
    "# 08. 暗号文\n",
    "与えられた文字列の各文字を，以下の仕様で変換する関数cipherを実装せよ．\n",
    "\n",
    "英小文字ならば(219 - 文字コード)の文字に置換\n",
    "その他の文字はそのまま出力\n",
    "この関数を用い，英語のメッセージを暗号化・復号化せよ．"
   ]
  },
  {
   "cell_type": "code",
   "execution_count": 120,
   "id": "4b78e85f-59e6-4d04-965e-5b042b365d0a",
   "metadata": {},
   "outputs": [],
   "source": [
    "from string import ascii_lowercase\n",
    "\n",
    "def cipher(t):\n",
    "    res = ['']*len(t)\n",
    "    for i, e in enumerate(t):\n",
    "        if e in ascii_lowercase:\n",
    "            res[i] = chr(219 - ord(e))\n",
    "        else:\n",
    "            res[i] = e\n",
    "    return ''.join(res)"
   ]
  },
  {
   "cell_type": "code",
   "execution_count": 122,
   "id": "d652fe92-4f7f-4730-b5af-e0c4d5194572",
   "metadata": {},
   "outputs": [
    {
     "name": "stdout",
     "output_type": "stream",
     "text": [
      "Hvool dliow. I zn 15 low\n"
     ]
    }
   ],
   "source": [
    "origin = \"Hello world. I am 15 old\"\n",
    "ang = cipher(origin)\n",
    "print(ang)"
   ]
  },
  {
   "cell_type": "code",
   "execution_count": 124,
   "id": "9cd395bf-0b5e-4ab5-b957-ff105f5d6acf",
   "metadata": {},
   "outputs": [
    {
     "data": {
      "text/plain": [
       "'Hello world. I am 15 old'"
      ]
     },
     "execution_count": 124,
     "metadata": {},
     "output_type": "execute_result"
    }
   ],
   "source": [
    "back = cipher(ang)\n",
    "back"
   ]
  },
  {
   "cell_type": "markdown",
   "id": "cab3a34c-232c-42ae-a06c-747b6f0fcbb9",
   "metadata": {},
   "source": [
    "# 09. Typoglycemia\n",
    "スペースで区切られた単語列に対して，各単語の先頭と末尾の文字は残し，それ以外の文字の順序をランダムに並び替えるプログラムを作成せよ．ただし，長さが４以下の単語は並び替えないこととする．適当な英語の文（例えば”I couldn’t believe that I could actually understand what I was reading : the phenomenal power of the human mind .”）を与え，その実行結果を確認せよ．"
   ]
  },
  {
   "cell_type": "code",
   "execution_count": 166,
   "id": "99fd0d44-0abc-4202-aa0b-028b228e24c6",
   "metadata": {},
   "outputs": [],
   "source": [
    "from random import sample\n",
    "\n",
    "def f09(t):\n",
    "    res = []\n",
    "    new_chars = ''\n",
    "    for i,e in enumerate(t):\n",
    "        if e in ' ,.:;':\n",
    "            if len(new_chars) > 3:\n",
    "                new_ind = [0] + sample(range(1,len(new_chars)-1),k=len(new_chars)-2) + [len(new_chars)-1]\n",
    "                new_word = ''.join([new_chars[i] for i in new_ind])\n",
    "            else:\n",
    "                new_word = ''.join(new_chars)\n",
    "            res.append(new_word)\n",
    "            res.append(e)\n",
    "            new_chars = ''\n",
    "        else:\n",
    "            new_chars += e\n",
    "    print(''.join(res))"
   ]
  },
  {
   "cell_type": "code",
   "execution_count": 170,
   "id": "1163bdc1-8c95-4411-b66b-73108bf7ed0e",
   "metadata": {},
   "outputs": [
    {
     "name": "stdout",
     "output_type": "stream",
     "text": [
      "I cluo’dnt belviee taht I cuold atluacly usdatennrd what I was raideng : the paemnnoehl pwoer of the hmaun mind .\n"
     ]
    }
   ],
   "source": [
    "t = \"I couldn’t believe that I could actually understand what I was reading : the phenomenal power of the human mind .\"\n",
    "f09(t)"
   ]
  }
 ],
 "metadata": {
  "kernelspec": {
   "display_name": "Python 3 (ipykernel)",
   "language": "python",
   "name": "python3"
  },
  "language_info": {
   "codemirror_mode": {
    "name": "ipython",
    "version": 3
   },
   "file_extension": ".py",
   "mimetype": "text/x-python",
   "name": "python",
   "nbconvert_exporter": "python",
   "pygments_lexer": "ipython3",
   "version": "3.9.6"
  }
 },
 "nbformat": 4,
 "nbformat_minor": 5
}
