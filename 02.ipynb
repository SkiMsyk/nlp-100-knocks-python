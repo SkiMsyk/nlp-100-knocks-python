{
 "cells": [
  {
   "cell_type": "markdown",
   "id": "bbb42880-fd36-465b-9451-57a2ad39da63",
   "metadata": {},
   "source": [
    "# 10. 行数のカウント\n",
    "行数をカウントせよ．確認にはwcコマンドを用いよ．"
   ]
  },
  {
   "cell_type": "code",
   "execution_count": 30,
   "id": "6792e00c-746c-45e0-bf82-c0a9bcab3fbb",
   "metadata": {},
   "outputs": [
    {
     "name": "stdout",
     "output_type": "stream",
     "text": [
      "2780\n"
     ]
    }
   ],
   "source": [
    "with open(\"dataset/popular-names.txt\", mode=\"r\") as f:\n",
    "    t = f.read()\n",
    "line_count = len(t.splitlines())\n",
    "print(line_count)"
   ]
  },
  {
   "cell_type": "markdown",
   "id": "8ec60983-ae74-4780-91f4-b407dcc0c667",
   "metadata": {},
   "source": [
    "# 11. タブをスペースに置換\n",
    "タブ1文字につきスペース1文字に置換せよ．確認にはsedコマンド，trコマンド，もしくはexpandコマンドを用いよ．"
   ]
  },
  {
   "cell_type": "code",
   "execution_count": 21,
   "id": "6031349d-5c0d-49b8-aded-3da4e8d2c822",
   "metadata": {},
   "outputs": [
    {
     "data": {
      "text/plain": [
       "'Mary F 7065 1880\\nAnna F 2604 1880\\nEmma F 2003 1880\\nElizabeth F 1939 1880\\nMinnie F 1746 1880\\nMargaret'"
      ]
     },
     "execution_count": 21,
     "metadata": {},
     "output_type": "execute_result"
    }
   ],
   "source": [
    "import re\n",
    "res = re.sub(r'\\t', \" \", t)\n",
    "res[:100]"
   ]
  },
  {
   "cell_type": "markdown",
   "id": "8cf52fd4-9198-4cb9-b428-2dd074073eb7",
   "metadata": {},
   "source": [
    "# 12. 1列目をcol1.txtに，2列目をcol2.txtに保存\n",
    "各行の1列目だけを抜き出したものをcol1.txtに，2列目だけを抜き出したものをcol2.txtとしてファイルに保存せよ．確認にはcutコマンドを用いよ．"
   ]
  },
  {
   "cell_type": "code",
   "execution_count": 37,
   "id": "9f78cf84-6286-4de7-b3b1-c006a09ad9f4",
   "metadata": {},
   "outputs": [],
   "source": [
    "col1 = ['']*line_count\n",
    "col2 = ['']*line_count\n",
    "\n",
    "with open(\"dataset/popular-names.txt\", mode=\"r\") as f:\n",
    "    t = f.read()\n",
    "    for i,l in enumerate(t.splitlines()):\n",
    "        col1[i], col2[i] = re.split(r'\\t', l)[:2]\n",
    "        \n",
    "with open('output/col1.txt', mode=\"w\") as f:\n",
    "    f.write('\\n'.join(col1))\n",
    "\n",
    "with open('output/col2.txt', mode=\"w\") as f:\n",
    "    f.write('\\n'.join(col2))"
   ]
  },
  {
   "cell_type": "markdown",
   "id": "f9e21e16-7eff-45b8-8be8-b6bebf953ee2",
   "metadata": {},
   "source": [
    "# 13. col1.txtとcol2.txtをマージ\n",
    "12で作ったcol1.txtとcol2.txtを結合し，元のファイルの1列目と2列目をタブ区切りで並べたテキストファイルを作成せよ．確認にはpasteコマンドを用いよ．"
   ]
  },
  {
   "cell_type": "code",
   "execution_count": 43,
   "id": "e3157da6-72b2-4678-be65-2d5651060c4b",
   "metadata": {},
   "outputs": [],
   "source": [
    "with open('output/col1.txt', mode='r') as f:\n",
    "    col1 = f.read().splitlines()\n",
    "\n",
    "with open('output/col2.txt', mode='r') as f:\n",
    "    col2 = f.read().splitlines()\n",
    "\n",
    "res = '\\n'.join(['\\t'.join([e1,e2]) for e1, e2 in zip(col1, col2)])\n",
    "\n",
    "with open('output/joined-col1-and-col2.txt', mode='w') as f:\n",
    "    f.write(res)"
   ]
  },
  {
   "cell_type": "markdown",
   "id": "03213fd6-3eda-4b1d-bf38-6e770efee04a",
   "metadata": {},
   "source": [
    "# 14. 先頭からN行を出力\n",
    "自然数Nをコマンドライン引数などの手段で受け取り，入力のうち先頭のN行だけを表示せよ．確認にはheadコマンドを用いよ．"
   ]
  },
  {
   "cell_type": "code",
   "execution_count": 69,
   "id": "4017f496-46d0-40ad-a2e5-58956dc9f78e",
   "metadata": {},
   "outputs": [],
   "source": [
    "def multiple_input(p=\"first\"):\n",
    "    print('if you stop inputting, please enter with no characters')\n",
    "    res = []\n",
    "    while True:\n",
    "        res.append(input())\n",
    "        if res[-1] == '':\n",
    "            break\n",
    "    if p == \"first\":\n",
    "        print('your first input : ', res[0])\n",
    "    else:\n",
    "        print('your last input : ', res[-2])\n",
    "    return res[:-1]"
   ]
  },
  {
   "cell_type": "code",
   "execution_count": 70,
   "id": "8b951d64-a6b8-456e-8882-ffc313057abc",
   "metadata": {},
   "outputs": [
    {
     "name": "stdout",
     "output_type": "stream",
     "text": [
      "if you stop inputting, please enter with no characters\n"
     ]
    },
    {
     "name": "stdin",
     "output_type": "stream",
     "text": [
      " 43127890\n",
      " 54732890\n",
      " 324-059\n",
      " \n"
     ]
    },
    {
     "name": "stdout",
     "output_type": "stream",
     "text": [
      "your first input :  43127890\n"
     ]
    },
    {
     "data": {
      "text/plain": [
       "['43127890', '54732890', '324-059']"
      ]
     },
     "execution_count": 70,
     "metadata": {},
     "output_type": "execute_result"
    }
   ],
   "source": [
    "multiple_input()"
   ]
  },
  {
   "cell_type": "markdown",
   "id": "dd74d786-7dd1-4b43-8752-f280bc78df6a",
   "metadata": {},
   "source": [
    "# 15. 末尾のN行を出力\n",
    "自然数Nをコマンドライン引数などの手段で受け取り，入力のうち末尾のN行だけを表示せよ．確認にはtailコマンドを用いよ．\n",
    "\n"
   ]
  },
  {
   "cell_type": "code",
   "execution_count": 71,
   "id": "0b1ef3a9-1dc8-4ca4-88fc-9f677d5a875a",
   "metadata": {},
   "outputs": [
    {
     "name": "stdout",
     "output_type": "stream",
     "text": [
      "if you stop inputting, please enter with no characters\n"
     ]
    },
    {
     "name": "stdin",
     "output_type": "stream",
     "text": [
      " 543290-\n",
      " 654783\n",
      " 23-40958\n",
      " 548392-\n",
      " 134859-0\n",
      " 65-04398\n",
      " \n"
     ]
    },
    {
     "name": "stdout",
     "output_type": "stream",
     "text": [
      "your last input :  65-04398\n"
     ]
    },
    {
     "data": {
      "text/plain": [
       "['543290-', '654783', '23-40958', '548392-', '134859-0', '65-04398']"
      ]
     },
     "execution_count": 71,
     "metadata": {},
     "output_type": "execute_result"
    }
   ],
   "source": [
    "multiple_input(p=\"last\")"
   ]
  },
  {
   "cell_type": "markdown",
   "id": "4d29db57-56ec-41da-9bcf-476630ffd1d7",
   "metadata": {},
   "source": [
    "# 16. ファイルをN分割する\n",
    "自然数Nをコマンドライン引数などの手段で受け取り，入力のファイルを行単位でN分割せよ．同様の処理をsplitコマンドで実現せよ．"
   ]
  },
  {
   "cell_type": "code",
   "execution_count": 102,
   "id": "1a6c181d-04f6-4dca-a557-42ff4ad70834",
   "metadata": {},
   "outputs": [
    {
     "name": "stdin",
     "output_type": "stream",
     "text": [
      " 5\n"
     ]
    }
   ],
   "source": [
    "n = int(input())\n",
    "with open('dataset/popular-names.txt', mode='r') as f:\n",
    "    t = f.read().splitlines()\n",
    "\n",
    "res = []\n",
    "size = len(t) // n\n",
    "total = len(t)\n",
    "starts = list(range(0, total, size))\n",
    "ends = starts[1:] + [total]\n",
    "for s, e in zip(starts, ends):\n",
    "    fn = \"output/ignore_lines_from_{s}_to_{e}.txt\".format(s=s,e=e)\n",
    "    with open(fn, mode='w') as f:\n",
    "        f.write('\\n'.join(t[s:e]))"
   ]
  },
  {
   "cell_type": "markdown",
   "id": "7c44c33f-69e8-42d2-b5d8-4dac12d33c43",
   "metadata": {},
   "source": [
    "# 17. １列目の文字列の異なり\n",
    "1列目の文字列の種類（異なる文字列の集合）を求めよ．確認にはcut, sort, uniqコマンドを用いよ．"
   ]
  },
  {
   "cell_type": "code",
   "execution_count": 104,
   "id": "1ec3d82b-6375-42a5-b870-7e7e6c68fee2",
   "metadata": {},
   "outputs": [
    {
     "data": {
      "text/plain": [
       "{'\\t',\n",
       " '\\n',\n",
       " '0',\n",
       " '1',\n",
       " '2',\n",
       " '3',\n",
       " '4',\n",
       " '5',\n",
       " '6',\n",
       " '7',\n",
       " '8',\n",
       " '9',\n",
       " 'A',\n",
       " 'B',\n",
       " 'C',\n",
       " 'D',\n",
       " 'E',\n",
       " 'F',\n",
       " 'G',\n",
       " 'H',\n",
       " 'I',\n",
       " 'J',\n",
       " 'K',\n",
       " 'L',\n",
       " 'M',\n",
       " 'N',\n",
       " 'O',\n",
       " 'P',\n",
       " 'R',\n",
       " 'S',\n",
       " 'T',\n",
       " 'V',\n",
       " 'W',\n",
       " 'a',\n",
       " 'b',\n",
       " 'c',\n",
       " 'd',\n",
       " 'e',\n",
       " 'f',\n",
       " 'g',\n",
       " 'h',\n",
       " 'i',\n",
       " 'j',\n",
       " 'k',\n",
       " 'l',\n",
       " 'm',\n",
       " 'n',\n",
       " 'o',\n",
       " 'p',\n",
       " 'r',\n",
       " 's',\n",
       " 't',\n",
       " 'u',\n",
       " 'v',\n",
       " 'w',\n",
       " 'x',\n",
       " 'y',\n",
       " 'z'}"
      ]
     },
     "execution_count": 104,
     "metadata": {},
     "output_type": "execute_result"
    }
   ],
   "source": [
    "with open('dataset/popular-names.txt', mode='r') as f:\n",
    "    t = f.read()\n",
    "set(t)"
   ]
  },
  {
   "cell_type": "markdown",
   "id": "76755827-2704-4208-a376-ea54e370638b",
   "metadata": {},
   "source": [
    "# 18. 各行を3コラム目の数値の降順にソート\n",
    "各行を3コラム目の数値の逆順で整列せよ（注意: 各行の内容は変更せずに並び替えよ）．確認にはsortコマンドを用いよ（この問題はコマンドで実行した時の結果と合わなくてもよい）．"
   ]
  },
  {
   "cell_type": "code",
   "execution_count": 116,
   "id": "61b9ebfc-98ea-4e00-a774-8a6d607517b2",
   "metadata": {},
   "outputs": [
    {
     "data": {
      "text/plain": [
       "array([['Mary', 'F', '7065', '1880'],\n",
       "       ['Anna', 'F', '2604', '1880'],\n",
       "       ['Emma', 'F', '2003', '1880'],\n",
       "       ...,\n",
       "       ['Lucas', 'M', '12585', '2018'],\n",
       "       ['Mason', 'M', '12435', '2018'],\n",
       "       ['Logan', 'M', '12352', '2018']], dtype='<U11')"
      ]
     },
     "execution_count": 116,
     "metadata": {},
     "output_type": "execute_result"
    }
   ],
   "source": [
    "import numpy as np\n",
    "\n",
    "\n",
    "with open('dataset/popular-names.txt', mode='r') as f:\n",
    "    t = f.read().splitlines()\n",
    "\n",
    "res = np.array([e.split('\\t') for e in t])\n",
    "res.sort()"
   ]
  },
  {
   "cell_type": "code",
   "execution_count": 124,
   "id": "3d96edec-99f3-4bf2-96c3-67113541180f",
   "metadata": {},
   "outputs": [
    {
     "data": {
      "text/html": [
       "<div>\n",
       "<style scoped>\n",
       "    .dataframe tbody tr th:only-of-type {\n",
       "        vertical-align: middle;\n",
       "    }\n",
       "\n",
       "    .dataframe tbody tr th {\n",
       "        vertical-align: top;\n",
       "    }\n",
       "\n",
       "    .dataframe thead th {\n",
       "        text-align: right;\n",
       "    }\n",
       "</style>\n",
       "<table border=\"1\" class=\"dataframe\">\n",
       "  <thead>\n",
       "    <tr style=\"text-align: right;\">\n",
       "      <th></th>\n",
       "      <th>name</th>\n",
       "      <th>sex</th>\n",
       "      <th>count</th>\n",
       "      <th>year</th>\n",
       "    </tr>\n",
       "  </thead>\n",
       "  <tbody>\n",
       "    <tr>\n",
       "      <th>1340</th>\n",
       "      <td>Linda</td>\n",
       "      <td>F</td>\n",
       "      <td>99689</td>\n",
       "      <td>1947</td>\n",
       "    </tr>\n",
       "    <tr>\n",
       "      <th>1360</th>\n",
       "      <td>Linda</td>\n",
       "      <td>F</td>\n",
       "      <td>96211</td>\n",
       "      <td>1948</td>\n",
       "    </tr>\n",
       "    <tr>\n",
       "      <th>1350</th>\n",
       "      <td>James</td>\n",
       "      <td>M</td>\n",
       "      <td>94757</td>\n",
       "      <td>1947</td>\n",
       "    </tr>\n",
       "    <tr>\n",
       "      <th>1550</th>\n",
       "      <td>Michael</td>\n",
       "      <td>M</td>\n",
       "      <td>92704</td>\n",
       "      <td>1957</td>\n",
       "    </tr>\n",
       "    <tr>\n",
       "      <th>1351</th>\n",
       "      <td>Robert</td>\n",
       "      <td>M</td>\n",
       "      <td>91640</td>\n",
       "      <td>1947</td>\n",
       "    </tr>\n",
       "    <tr>\n",
       "      <th>...</th>\n",
       "      <td>...</td>\n",
       "      <td>...</td>\n",
       "      <td>...</td>\n",
       "      <td>...</td>\n",
       "    </tr>\n",
       "    <tr>\n",
       "      <th>27</th>\n",
       "      <td>Annie</td>\n",
       "      <td>F</td>\n",
       "      <td>1326</td>\n",
       "      <td>1881</td>\n",
       "    </tr>\n",
       "    <tr>\n",
       "      <th>28</th>\n",
       "      <td>Bertha</td>\n",
       "      <td>F</td>\n",
       "      <td>1324</td>\n",
       "      <td>1881</td>\n",
       "    </tr>\n",
       "    <tr>\n",
       "      <th>8</th>\n",
       "      <td>Bertha</td>\n",
       "      <td>F</td>\n",
       "      <td>1320</td>\n",
       "      <td>1880</td>\n",
       "    </tr>\n",
       "    <tr>\n",
       "      <th>29</th>\n",
       "      <td>Alice</td>\n",
       "      <td>F</td>\n",
       "      <td>1308</td>\n",
       "      <td>1881</td>\n",
       "    </tr>\n",
       "    <tr>\n",
       "      <th>9</th>\n",
       "      <td>Sarah</td>\n",
       "      <td>F</td>\n",
       "      <td>1288</td>\n",
       "      <td>1880</td>\n",
       "    </tr>\n",
       "  </tbody>\n",
       "</table>\n",
       "<p>2780 rows × 4 columns</p>\n",
       "</div>"
      ],
      "text/plain": [
       "         name sex  count  year\n",
       "1340    Linda   F  99689  1947\n",
       "1360    Linda   F  96211  1948\n",
       "1350    James   M  94757  1947\n",
       "1550  Michael   M  92704  1957\n",
       "1351   Robert   M  91640  1947\n",
       "...       ...  ..    ...   ...\n",
       "27      Annie   F   1326  1881\n",
       "28     Bertha   F   1324  1881\n",
       "8      Bertha   F   1320  1880\n",
       "29      Alice   F   1308  1881\n",
       "9       Sarah   F   1288  1880\n",
       "\n",
       "[2780 rows x 4 columns]"
      ]
     },
     "execution_count": 124,
     "metadata": {},
     "output_type": "execute_result"
    }
   ],
   "source": [
    "import pandas as pd\n",
    "df = pd.DataFrame(res, columns=['name', 'sex', 'count', 'year'])\n",
    "df['count'] = [int(e) for e in df['count']]\n",
    "df.sort_values('count', ascending=False)"
   ]
  },
  {
   "cell_type": "markdown",
   "id": "de08b4a1-7db6-4f60-9610-bb9d0f3d29cb",
   "metadata": {},
   "source": [
    "# 19. 各行の1コラム目の文字列の出現頻度を求め，出現頻度の高い順に並べる\n",
    "各行の1列目の文字列の出現頻度を求め，その高い順に並べて表示せよ．確認にはcut, uniq, sortコマンドを用いよ．"
   ]
  },
  {
   "cell_type": "code",
   "execution_count": 125,
   "id": "3d60ec84-17e2-447a-bcf0-ab9e747d4e35",
   "metadata": {},
   "outputs": [
    {
     "data": {
      "text/plain": [
       "James      118\n",
       "William    111\n",
       "Robert     108\n",
       "John       108\n",
       "Mary        92\n",
       "          ... \n",
       "Scott        1\n",
       "Rachel       1\n",
       "Kelly        1\n",
       "Crystal      1\n",
       "Lucas        1\n",
       "Name: name, Length: 136, dtype: int64"
      ]
     },
     "execution_count": 125,
     "metadata": {},
     "output_type": "execute_result"
    }
   ],
   "source": [
    "df['name'].value_counts()"
   ]
  },
  {
   "cell_type": "code",
   "execution_count": null,
   "id": "dea7ba84-471a-48ca-911e-84601db451d0",
   "metadata": {},
   "outputs": [],
   "source": []
  }
 ],
 "metadata": {
  "kernelspec": {
   "display_name": "Python 3 (ipykernel)",
   "language": "python",
   "name": "python3"
  },
  "language_info": {
   "codemirror_mode": {
    "name": "ipython",
    "version": 3
   },
   "file_extension": ".py",
   "mimetype": "text/x-python",
   "name": "python",
   "nbconvert_exporter": "python",
   "pygments_lexer": "ipython3",
   "version": "3.9.6"
  }
 },
 "nbformat": 4,
 "nbformat_minor": 5
}
